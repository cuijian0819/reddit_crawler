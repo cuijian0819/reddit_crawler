{
 "cells": [
  {
   "cell_type": "code",
   "execution_count": 172,
   "metadata": {},
   "outputs": [],
   "source": [
    "import time\n",
    "from bs4 import BeautifulSoup\n",
    "from lxml import etree\n",
    "import os\n",
    "from tqdm import tqdm\n",
    "from datetime import datetime\n",
    "from psaw import PushshiftAPI\n",
    "import pickle"
   ]
  },
  {
   "cell_type": "code",
   "execution_count": 173,
   "metadata": {},
   "outputs": [],
   "source": [
    "\n",
    "api = PushshiftAPI()"
   ]
  },
  {
   "cell_type": "code",
   "execution_count": 174,
   "metadata": {},
   "outputs": [],
   "source": [
    "posted_after = int(datetime(2021, 12, 25).timestamp())\n",
    "posted_before = int(datetime(2021, 12, 26).timestamp())\n",
    "\n",
    "query = api.search_submissions(subreddit='Bitcoin', after=posted_after, before=posted_before)"
   ]
  },
  {
   "cell_type": "code",
   "execution_count": 175,
   "metadata": {},
   "outputs": [
    {
     "name": "stderr",
     "output_type": "stream",
     "text": [
      "200it [00:02, 79.14it/s]"
     ]
    },
    {
     "name": "stdout",
     "output_type": "stream",
     "text": [
      "200\n"
     ]
    },
    {
     "name": "stderr",
     "output_type": "stream",
     "text": [
      "\n"
     ]
    }
   ],
   "source": [
    "submissions = list()\n",
    "for element in tqdm(query):\n",
    "    submissions.append(element.d_)\n",
    "print(len(submissions))"
   ]
  },
  {
   "cell_type": "code",
   "execution_count": 180,
   "metadata": {},
   "outputs": [],
   "source": [
    "with open('data/submissions/2021_1_21', 'rb') as f:\n",
    "    l_subs = pickle.load(f)"
   ]
  },
  {
   "cell_type": "code",
   "execution_count": 183,
   "metadata": {},
   "outputs": [
    {
     "name": "stdout",
     "output_type": "stream",
     "text": [
      "528\n"
     ]
    }
   ],
   "source": [
    "print(len(l_subs))"
   ]
  },
  {
   "cell_type": "code",
   "execution_count": 190,
   "metadata": {},
   "outputs": [
    {
     "name": "stdout",
     "output_type": "stream",
     "text": [
      "l1zxv8\n"
     ]
    },
    {
     "data": {
      "text/plain": [
       "{'all_awardings': [],\n",
       " 'allow_live_comments': False,\n",
       " 'author': 'digolove',\n",
       " 'author_flair_css_class': None,\n",
       " 'author_flair_richtext': [],\n",
       " 'author_flair_text': None,\n",
       " 'author_flair_type': 'text',\n",
       " 'author_fullname': 't2_wjolpdm',\n",
       " 'author_patreon_flair': False,\n",
       " 'author_premium': False,\n",
       " 'awarders': [],\n",
       " 'can_mod_post': False,\n",
       " 'contest_mode': False,\n",
       " 'created_utc': 1611240872,\n",
       " 'domain': 'self.Bitcoin',\n",
       " 'full_link': 'https://www.reddit.com/r/Bitcoin/comments/l1zxv8/bitcoin_geopolitics_economy/',\n",
       " 'gildings': {},\n",
       " 'id': 'l1zxv8',\n",
       " 'is_crosspostable': True,\n",
       " 'is_meta': False,\n",
       " 'is_original_content': False,\n",
       " 'is_reddit_media_domain': False,\n",
       " 'is_robot_indexable': True,\n",
       " 'is_self': True,\n",
       " 'is_video': False,\n",
       " 'link_flair_background_color': '',\n",
       " 'link_flair_richtext': [],\n",
       " 'link_flair_text_color': 'dark',\n",
       " 'link_flair_type': 'text',\n",
       " 'locked': False,\n",
       " 'media_only': False,\n",
       " 'no_follow': True,\n",
       " 'num_comments': 5,\n",
       " 'num_crossposts': 0,\n",
       " 'over_18': False,\n",
       " 'parent_whitelist_status': 'all_ads',\n",
       " 'permalink': '/r/Bitcoin/comments/l1zxv8/bitcoin_geopolitics_economy/',\n",
       " 'pinned': False,\n",
       " 'pwls': 6,\n",
       " 'retrieved_on': 1611240884,\n",
       " 'score': 1,\n",
       " 'selftext': 'Nice to meet you.  \\n\\n&amp;#x200B;\\n\\n&amp;#x200B;\\n\\nI am an economist/internationalist trying to understand what influences Bitcoin prices and maybe buying some.  \\n\\n&amp;#x200B;\\n\\n&amp;#x200B;\\n\\nFrom my understanding, BTC is a hedge against the world monetary system, is that accurate?  \\n\\n&amp;#x200B;\\n\\n&amp;#x200B;\\n\\nWhat are other trends in US (monetary and non monetary) policy I should look to? How about world politics?',\n",
       " 'send_replies': True,\n",
       " 'spoiler': False,\n",
       " 'stickied': False,\n",
       " 'subreddit': 'Bitcoin',\n",
       " 'subreddit_id': 't5_2s3qj',\n",
       " 'subreddit_subscribers': 1951029,\n",
       " 'subreddit_type': 'public',\n",
       " 'thumbnail': 'self',\n",
       " 'title': 'Bitcoin geopolitics, economy',\n",
       " 'total_awards_received': 0,\n",
       " 'treatment_tags': [],\n",
       " 'upvote_ratio': 1.0,\n",
       " 'url': 'https://www.reddit.com/r/Bitcoin/comments/l1zxv8/bitcoin_geopolitics_economy/',\n",
       " 'whitelist_status': 'all_ads',\n",
       " 'wls': 6,\n",
       " 'created': 1611208472.0}"
      ]
     },
     "execution_count": 190,
     "metadata": {},
     "output_type": "execute_result"
    }
   ],
   "source": [
    "print(l_subs[2]['id'])\n",
    "l_subs[2]"
   ]
  },
  {
   "cell_type": "code",
   "execution_count": null,
   "metadata": {},
   "outputs": [],
   "source": []
  },
  {
   "cell_type": "code",
   "execution_count": 189,
   "metadata": {},
   "outputs": [
    {
     "name": "stdout",
     "output_type": "stream",
     "text": [
      "l1zxv8\n"
     ]
    },
    {
     "name": "stderr",
     "output_type": "stream",
     "text": [
      "0it [00:00, ?it/s]"
     ]
    },
    {
     "name": "stdout",
     "output_type": "stream",
     "text": [
      "0\n"
     ]
    },
    {
     "name": "stderr",
     "output_type": "stream",
     "text": [
      "\n"
     ]
    }
   ],
   "source": [
    "\n",
    "query2 = api.search_submissions(subreddit=l_subs[2]['id'])\n",
    "comments = list()\n",
    "for element in tqdm(query2):\n",
    "    comments.append(element.d_)\n",
    "print(len(comments))"
   ]
  },
  {
   "cell_type": "code",
   "execution_count": null,
   "metadata": {},
   "outputs": [],
   "source": []
  },
  {
   "cell_type": "code",
   "execution_count": 164,
   "metadata": {},
   "outputs": [
    {
     "name": "stdout",
     "output_type": "stream",
     "text": [
      "2021-12-25 00:02:46\n"
     ]
    }
   ],
   "source": [
    "ts = submissions[-1]['created_utc']\n",
    "dt_object = datetime.fromtimestamp(ts)\n",
    "print(dt_object)"
   ]
  },
  {
   "cell_type": "code",
   "execution_count": 165,
   "metadata": {},
   "outputs": [
    {
     "name": "stdout",
     "output_type": "stream",
     "text": [
      "2021-12-25 23:51:00\n"
     ]
    }
   ],
   "source": [
    "ts = submissions[0]['created_utc']\n",
    "dt_object = datetime.fromtimestamp(ts)\n",
    "print(dt_object)"
   ]
  },
  {
   "cell_type": "code",
   "execution_count": null,
   "metadata": {},
   "outputs": [],
   "source": [
    "with open('reddit_btc_2021_12_28') as f:"
   ]
  },
  {
   "cell_type": "code",
   "execution_count": 166,
   "metadata": {},
   "outputs": [
    {
     "name": "stdout",
     "output_type": "stream",
     "text": [
      "rob28s Easy BTC Miner v4.0\n"
     ]
    }
   ],
   "source": [
    "i = 1\n",
    "print(submissions[i]['id'], submissions[i]['title'])"
   ]
  },
  {
   "cell_type": "code",
   "execution_count": 44,
   "metadata": {},
   "outputs": [],
   "source": [
    "import praw\n",
    "\n",
    "reddit = praw.Reddit(\n",
    "    client_id=\"XAWWcdEAoBj5NyhDFhoZGg\",\n",
    "    client_secret=\"376aCdcCboyRVXCoff5wusr-Y19ahQ\",\n",
    "    password=\"jianjian.\",\n",
    "    user_agent=\"USERAGENT\",\n",
    "    username=\"dev_jian\",\n",
    ")"
   ]
  },
  {
   "cell_type": "code",
   "execution_count": 66,
   "metadata": {},
   "outputs": [],
   "source": [
    "import requests\n",
    "url = 'https://api.pushshift.io/reddit/search/submission/?subreddit=Bitcoin&sort=desc&sort_type=created_utc&after=1640396172&before=1640585758&size=1000;'\n",
    "response = requests.get(url)\n"
   ]
  },
  {
   "cell_type": "code",
   "execution_count": 67,
   "metadata": {},
   "outputs": [
    {
     "name": "stdout",
     "output_type": "stream",
     "text": [
      "25\n"
     ]
    }
   ],
   "source": [
    "response = response.json()\n",
    "print(len(response['data']))"
   ]
  },
  {
   "cell_type": "code",
   "execution_count": 70,
   "metadata": {},
   "outputs": [
    {
     "data": {
      "text/plain": [
       "'rpggro'"
      ]
     },
     "execution_count": 70,
     "metadata": {},
     "output_type": "execute_result"
    }
   ],
   "source": [
    "response['data'][1]['id']"
   ]
  },
  {
   "cell_type": "code",
   "execution_count": 202,
   "metadata": {},
   "outputs": [
    {
     "data": {
      "text/plain": [
       "\"Can someone explain this graphic to me? What's going on here?  \\n\\n\\n&#x200B;\\n\\nhttps://preview.redd.it/9jgbgdna7gi61.png?width=519&format=png&auto=webp&s=bb439d4f616e03b3e3efcbcdef79d3deb2a95c96\""
      ]
     },
     "execution_count": 202,
     "metadata": {},
     "output_type": "execute_result"
    }
   ],
   "source": [
    "submission.selftext"
   ]
  },
  {
   "cell_type": "code",
   "execution_count": 211,
   "metadata": {},
   "outputs": [],
   "source": [
    "from collections import defaultdict\n",
    "\n",
    "submission = reddit.submission('lnhr2g')\n",
    "# submission.title\n",
    "# print(submission.selftext)\n",
    "# print(submission.created_utc)\n",
    "# posts_dict: \n",
    "# key:  msg_id\n",
    "# value: dict{msg_id:'', poster:'', thread_id:'', \\\n",
    "#.            quote: '', msg:''}\n",
    "posts_dict = {}\n",
    "\n",
    "# threads_dict: \n",
    "# key:  thread_id\n",
    "# value: [dict{msg_id:'', poster:'', thread_id:'', \\\n",
    "#             quote: '', msg:''}, ...]\n",
    "threads_dict = defaultdict(list)\n",
    "\n",
    "submission.comments.replace_more(limit=None)\n",
    "for comment in submission.comments.list():\n",
    "#     print(comment.body)\n",
    "    if sub['id'] == comment.parent_id:\n",
    "        quote = None\n",
    "    else:\n",
    "        quote = comment.parent_id\n",
    "    threads_dict[sub['id']] += [{'msg_id': comment.id, \\\n",
    "                                 'poster': comment.author, \\\n",
    "                                 'thread_id': sub['id'], \\\n",
    "                                 'msg': comment.body, \\\n",
    "                                 'quote': quote} \\\n",
    "                               ] \n",
    "    posts_dict[comment.id] = {'msg_id': comment.id, \\\n",
    "                                 'poster': comment.author, \\\n",
    "                                 'thread_id': sub['id'], \\\n",
    "                                 'msg': comment.body, \\\n",
    "                                 'quote': quote} \n",
    "\n",
    "# comments = submission.comments\n",
    "# for comment in submission.comments:\n",
    "#     print(comment)\n",
    "#     replies = comment.replies\n",
    "#     for reply in replies:\n",
    "#         print(reply)\n",
    "#         print(reply.body)\n",
    "#         print(reply.replies.__len__())\n",
    "#     break\n"
   ]
  },
  {
   "cell_type": "code",
   "execution_count": 212,
   "metadata": {},
   "outputs": [
    {
     "data": {
      "text/plain": [
       "defaultdict(list,\n",
       "            {'lnhuao': [{'msg_id': 'go0fae8',\n",
       "               'poster': Redditor(name='BillTheCommunistCat'),\n",
       "               'thread_id': 'lnhuao',\n",
       "               'msg': 'A bitcoin transaction?',\n",
       "               'quote': 't3_lnhr2g'},\n",
       "              {'msg_id': 'go0fc3i',\n",
       "               'poster': Redditor(name='becoolbecool3'),\n",
       "               'thread_id': 'lnhuao',\n",
       "               'msg': 'Dude, those are the plans to destroy the deathstar.',\n",
       "               'quote': 't3_lnhr2g'},\n",
       "              {'msg_id': 'go0fut4',\n",
       "               'poster': Redditor(name='Btcyoda'),\n",
       "               'thread_id': 'lnhuao',\n",
       "               'msg': 'Magic internet money at work...',\n",
       "               'quote': 't3_lnhr2g'},\n",
       "              {'msg_id': 'go0fukl',\n",
       "               'poster': Redditor(name='michaelscarnnnn'),\n",
       "               'thread_id': 'lnhuao',\n",
       "               'msg': 'Send message (transaction) to network, signed by private keys. Other computers in network pick up message and verify the digital signature. Miners include transaction in block and is now spendable by the receiver\\n\\nhttps://www.eli5-bitcoin.com/whatisbitcoinreally',\n",
       "               'quote': 't3_lnhr2g'},\n",
       "              {'msg_id': 'go0fxvz',\n",
       "               'poster': Redditor(name='semafore'),\n",
       "               'thread_id': 'lnhuao',\n",
       "               'msg': 'A Bitcoin transaction getting sent over a secure wireless connection, over the internet, and picked up by a miner, added to the next block in the blockchain, and finally recognized by the Bitcoin wallet on the recipients end.',\n",
       "               'quote': 't3_lnhr2g'},\n",
       "              {'msg_id': 'go0g81b',\n",
       "               'poster': Redditor(name='time_wasted504'),\n",
       "               'thread_id': 'lnhuao',\n",
       "               'msg': 'you make a tx, it is broadcast via wifi to one node. That node broadcasts to more nodes, The tx is included in a block, added to the blockchain and the end user you sent BTC to owns an ipad.',\n",
       "               'quote': 't3_lnhr2g'},\n",
       "              {'msg_id': 'go0lrv9',\n",
       "               'poster': Redditor(name='AccountNameError'),\n",
       "               'thread_id': 'lnhuao',\n",
       "               'msg': \"By the looks of it; you plug a tampon into your mobile phone and by uploading the information hidden inside the sanitary device to various devices across the Internet, a honeycomb centre is produced which can be uploaded to a tablet in the form of a golden substance.\\n\\nCan't quite figure out its use case, but it is certainly mindblowing what technology can do nowadays.\",\n",
       "               'quote': 't3_lnhr2g'},\n",
       "              {'msg_id': 'go0k8on',\n",
       "               'poster': Redditor(name='Parracombeboy'),\n",
       "               'thread_id': 'lnhuao',\n",
       "               'msg': \"Thanks very much. That's a big help.\",\n",
       "               'quote': 't1_go0fukl'}]})"
      ]
     },
     "execution_count": 212,
     "metadata": {},
     "output_type": "execute_result"
    }
   ],
   "source": [
    "threads_dict"
   ]
  },
  {
   "cell_type": "code",
   "execution_count": 217,
   "metadata": {},
   "outputs": [
    {
     "data": {
      "text/plain": [
       "'KingWormKilroy'"
      ]
     },
     "execution_count": 217,
     "metadata": {},
     "output_type": "execute_result"
    }
   ],
   "source": [
    "reddit.redditor('KingWormKilroy').name"
   ]
  },
  {
   "cell_type": "code",
   "execution_count": 232,
   "metadata": {},
   "outputs": [],
   "source": [
    "with open(\"data/reddit_btc_parsed\", \"rb\") as f:\n",
    "    posts_dict, threads_dict = pickle.load(f)\n"
   ]
  },
  {
   "cell_type": "code",
   "execution_count": 233,
   "metadata": {},
   "outputs": [
    {
     "data": {
      "text/plain": [
       "99"
      ]
     },
     "execution_count": 233,
     "metadata": {},
     "output_type": "execute_result"
    }
   ],
   "source": [
    "len(threads_dict)"
   ]
  },
  {
   "cell_type": "code",
   "execution_count": 13,
   "metadata": {},
   "outputs": [
    {
     "ename": "XPathEvalError",
     "evalue": "Invalid expression",
     "output_type": "error",
     "traceback": [
      "\u001b[0;31m---------------------------------------------------------------------------\u001b[0m",
      "\u001b[0;31mXPathEvalError\u001b[0m                            Traceback (most recent call last)",
      "\u001b[0;32m/tmp/ipykernel_29103/295765275.py\u001b[0m in \u001b[0;36m<module>\u001b[0;34m\u001b[0m\n\u001b[1;32m      4\u001b[0m     \u001b[0msoup\u001b[0m \u001b[0;34m=\u001b[0m \u001b[0mBeautifulSoup\u001b[0m\u001b[0;34m(\u001b[0m\u001b[0mopen\u001b[0m\u001b[0;34m(\u001b[0m\u001b[0;34m'data/raw/{}'\u001b[0m\u001b[0;34m.\u001b[0m\u001b[0mformat\u001b[0m\u001b[0;34m(\u001b[0m\u001b[0mhtml\u001b[0m\u001b[0;34m)\u001b[0m\u001b[0;34m,\u001b[0m \u001b[0mencoding\u001b[0m\u001b[0;34m=\u001b[0m\u001b[0;34m\"ISO-8859-1\"\u001b[0m\u001b[0;34m)\u001b[0m\u001b[0;34m,\u001b[0m \u001b[0;34m'html.parser'\u001b[0m\u001b[0;34m)\u001b[0m\u001b[0;34m\u001b[0m\u001b[0;34m\u001b[0m\u001b[0m\n\u001b[1;32m      5\u001b[0m     \u001b[0mdom\u001b[0m \u001b[0;34m=\u001b[0m \u001b[0metree\u001b[0m\u001b[0;34m.\u001b[0m\u001b[0mHTML\u001b[0m\u001b[0;34m(\u001b[0m\u001b[0mstr\u001b[0m\u001b[0;34m(\u001b[0m\u001b[0msoup\u001b[0m\u001b[0;34m)\u001b[0m\u001b[0;34m)\u001b[0m\u001b[0;34m\u001b[0m\u001b[0;34m\u001b[0m\u001b[0m\n\u001b[0;32m----> 6\u001b[0;31m     \u001b[0mpost_list\u001b[0m \u001b[0;34m=\u001b[0m \u001b[0mdom\u001b[0m\u001b[0;34m.\u001b[0m\u001b[0mxpath\u001b[0m\u001b[0;34m(\u001b[0m\u001b[0;34m'//*div[@data-testid=\"post-container\"]'\u001b[0m\u001b[0;34m)\u001b[0m\u001b[0;34m\u001b[0m\u001b[0;34m\u001b[0m\u001b[0m\n\u001b[0m\u001b[1;32m      7\u001b[0m     \u001b[0mprint\u001b[0m\u001b[0;34m(\u001b[0m\u001b[0mpost_list\u001b[0m\u001b[0;34m[\u001b[0m\u001b[0;36m0\u001b[0m\u001b[0;34m]\u001b[0m\u001b[0;34m.\u001b[0m\u001b[0mxpath\u001b[0m\u001b[0;34m(\u001b[0m\u001b[0;34m'/@id'\u001b[0m\u001b[0;34m)\u001b[0m\u001b[0;34m)\u001b[0m\u001b[0;34m\u001b[0m\u001b[0;34m\u001b[0m\u001b[0m\n\u001b[1;32m      8\u001b[0m     \u001b[0mprint\u001b[0m\u001b[0;34m(\u001b[0m\u001b[0mlen\u001b[0m\u001b[0;34m(\u001b[0m\u001b[0mpost_list\u001b[0m\u001b[0;34m)\u001b[0m\u001b[0;34m)\u001b[0m\u001b[0;34m\u001b[0m\u001b[0;34m\u001b[0m\u001b[0m\n",
      "\u001b[0;32msrc/lxml/etree.pyx\u001b[0m in \u001b[0;36mlxml.etree._Element.xpath\u001b[0;34m()\u001b[0m\n",
      "\u001b[0;32msrc/lxml/xpath.pxi\u001b[0m in \u001b[0;36mlxml.etree.XPathElementEvaluator.__call__\u001b[0;34m()\u001b[0m\n",
      "\u001b[0;32msrc/lxml/xpath.pxi\u001b[0m in \u001b[0;36mlxml.etree._XPathEvaluatorBase._handle_result\u001b[0;34m()\u001b[0m\n",
      "\u001b[0;31mXPathEvalError\u001b[0m: Invalid expression"
     ]
    }
   ],
   "source": [
    "html_list = os.listdir('data/raw')\n",
    "\n",
    "for html in html_list:\n",
    "    soup = BeautifulSoup(open('data/raw/{}'.format(html), encoding=\"ISO-8859-1\"), 'html.parser')\n",
    "    dom = etree.HTML(str(soup))\n",
    "    post_list = dom.xpath('//*div[@data-testid=\"post-container\"]')\n",
    "    print(post_list[0].xpath('/@id'))\n",
    "    print(len(post_list))\n",
    "    break"
   ]
  },
  {
   "cell_type": "code",
   "execution_count": 195,
   "metadata": {},
   "outputs": [
    {
     "name": "stdout",
     "output_type": "stream",
     "text": [
      "lnhuao\n"
     ]
    }
   ],
   "source": [
    "import praw\n",
    "import pickle\n",
    "\n",
    "reddit = praw.Reddit(\n",
    "    client_id=\"XAWWcdEAoBj5NyhDFhoZGg\",\n",
    "    client_secret=\"376aCdcCboyRVXCoff5wusr-Y19ahQ\",\n",
    "    password=\"jianjian.\",\n",
    "    user_agent=\"USERAGENT\",\n",
    "    username=\"dev_jian\",\n",
    ")\n",
    "\n",
    "file_list = os.listdir('data/submissions')\n",
    "\n",
    "for sub in file_list:\n",
    "    with open('data/submissions/' + sub, 'rb') as f:\n",
    "        submission_list = pickle.load(f)\n",
    "        for sub in submission_list:\n",
    "            print(sub['id'])\n",
    "            break\n",
    "        \n",
    "    break"
   ]
  },
  {
   "cell_type": "code",
   "execution_count": 193,
   "metadata": {},
   "outputs": [
    {
     "data": {
      "text/plain": [
       "815"
      ]
     },
     "execution_count": 193,
     "metadata": {},
     "output_type": "execute_result"
    }
   ],
   "source": [
    "len(submission_list)"
   ]
  },
  {
   "cell_type": "code",
   "execution_count": 18,
   "metadata": {},
   "outputs": [],
   "source": [
    "post_list = dom.xpath('//*[@data-testid=\"post-container\"]/@id')\n"
   ]
  },
  {
   "cell_type": "code",
   "execution_count": 17,
   "metadata": {},
   "outputs": [
    {
     "data": {
      "text/plain": [
       "<Element div at 0x7f8fad30e100>"
      ]
     },
     "execution_count": 17,
     "metadata": {},
     "output_type": "execute_result"
    }
   ],
   "source": [
    "post_list[0]"
   ]
  },
  {
   "cell_type": "code",
   "execution_count": 12,
   "metadata": {},
   "outputs": [
    {
     "data": {
      "text/plain": [
       "['Mentor Monday, December 27, 2021: Ask all your bitcoin questions!']"
      ]
     },
     "execution_count": 12,
     "metadata": {},
     "output_type": "execute_result"
    }
   ],
   "source": [
    "dom.xpath('//*[@id=\"t3_rpgmwc\"]/div[3]/div[3]/div[1]/a/div/h3/text()')"
   ]
  },
  {
   "cell_type": "code",
   "execution_count": null,
   "metadata": {},
   "outputs": [],
   "source": [
    "data-testid=\"post-container\""
   ]
  }
 ],
 "metadata": {
  "kernelspec": {
   "display_name": "Python 3 (ipykernel)",
   "language": "python",
   "name": "python3"
  },
  "language_info": {
   "codemirror_mode": {
    "name": "ipython",
    "version": 3
   },
   "file_extension": ".py",
   "mimetype": "text/x-python",
   "name": "python",
   "nbconvert_exporter": "python",
   "pygments_lexer": "ipython3",
   "version": "3.8.5"
  }
 },
 "nbformat": 4,
 "nbformat_minor": 4
}
