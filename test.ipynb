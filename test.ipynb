{
 "cells": [
  {
   "cell_type": "code",
   "execution_count": 31,
   "id": "4154ea69",
   "metadata": {},
   "outputs": [],
   "source": [
    "import pickle\n",
    "import random\n",
    "import pandas as pd"
   ]
  },
  {
   "cell_type": "code",
   "execution_count": 49,
   "id": "d4d3d275",
   "metadata": {},
   "outputs": [
    {
     "name": "stdout",
     "output_type": "stream",
     "text": [
      "2017:721654\n",
      "2018:356126\n",
      "2019:233459\n",
      "2020:340064\n",
      "2021:1289527\n"
     ]
    }
   ],
   "source": [
    "year_list = [2017, 2018, 2019, 2020, 2021]\n",
    "for year in year_list:\n",
    "    with open('data/reddit_btc_parsed_{}'.format(year), \"rb\") as f:\n",
    "        posts_dict, threads_dict = pickle.load(f)\n",
    "    print('{}:{}'.format(year, len(posts_dict)))"
   ]
  },
  {
   "cell_type": "code",
   "execution_count": 35,
   "id": "416b5e2e",
   "metadata": {},
   "outputs": [
    {
     "name": "stdout",
     "output_type": "stream",
     "text": [
      "None\n"
     ]
    },
    {
     "data": {
      "text/html": [
       "<div>\n",
       "<style scoped>\n",
       "    .dataframe tbody tr th:only-of-type {\n",
       "        vertical-align: middle;\n",
       "    }\n",
       "\n",
       "    .dataframe tbody tr th {\n",
       "        vertical-align: top;\n",
       "    }\n",
       "\n",
       "    .dataframe thead th {\n",
       "        text-align: right;\n",
       "    }\n",
       "</style>\n",
       "<table border=\"1\" class=\"dataframe\">\n",
       "  <thead>\n",
       "    <tr style=\"text-align: right;\">\n",
       "      <th></th>\n",
       "      <th>0</th>\n",
       "      <th>1</th>\n",
       "    </tr>\n",
       "  </thead>\n",
       "  <tbody>\n",
       "    <tr>\n",
       "      <th>0</th>\n",
       "      <td>lnhuao</td>\n",
       "      <td>None</td>\n",
       "    </tr>\n",
       "    <tr>\n",
       "      <th>1</th>\n",
       "      <td>lnhtqf</td>\n",
       "      <td>None</td>\n",
       "    </tr>\n",
       "    <tr>\n",
       "      <th>2</th>\n",
       "      <td>lnhr2g</td>\n",
       "      <td>[{'msg_id': 'lnhr2g', 'poster': 'Parracombeboy...</td>\n",
       "    </tr>\n",
       "    <tr>\n",
       "      <th>3</th>\n",
       "      <td>lnhqok</td>\n",
       "      <td>None</td>\n",
       "    </tr>\n",
       "    <tr>\n",
       "      <th>4</th>\n",
       "      <td>lnhpje</td>\n",
       "      <td>None</td>\n",
       "    </tr>\n",
       "    <tr>\n",
       "      <th>...</th>\n",
       "      <td>...</td>\n",
       "      <td>...</td>\n",
       "    </tr>\n",
       "    <tr>\n",
       "      <th>150756</th>\n",
       "      <td>rg9ueb</td>\n",
       "      <td>None</td>\n",
       "    </tr>\n",
       "    <tr>\n",
       "      <th>150757</th>\n",
       "      <td>rg9thv</td>\n",
       "      <td>[{'msg_id': 'rg9thv', 'poster': 'beetlejuice-1...</td>\n",
       "    </tr>\n",
       "    <tr>\n",
       "      <th>150758</th>\n",
       "      <td>rg9qav</td>\n",
       "      <td>None</td>\n",
       "    </tr>\n",
       "    <tr>\n",
       "      <th>150759</th>\n",
       "      <td>rg9nwq</td>\n",
       "      <td>[{'msg_id': 'rg9nwq', 'poster': 'very_452001',...</td>\n",
       "    </tr>\n",
       "    <tr>\n",
       "      <th>150760</th>\n",
       "      <td>rg9dzd</td>\n",
       "      <td>None</td>\n",
       "    </tr>\n",
       "  </tbody>\n",
       "</table>\n",
       "<p>150761 rows × 2 columns</p>\n",
       "</div>"
      ],
      "text/plain": [
       "             0                                                  1\n",
       "0       lnhuao                                               None\n",
       "1       lnhtqf                                               None\n",
       "2       lnhr2g  [{'msg_id': 'lnhr2g', 'poster': 'Parracombeboy...\n",
       "3       lnhqok                                               None\n",
       "4       lnhpje                                               None\n",
       "...        ...                                                ...\n",
       "150756  rg9ueb                                               None\n",
       "150757  rg9thv  [{'msg_id': 'rg9thv', 'poster': 'beetlejuice-1...\n",
       "150758  rg9qav                                               None\n",
       "150759  rg9nwq  [{'msg_id': 'rg9nwq', 'poster': 'very_452001',...\n",
       "150760  rg9dzd                                               None\n",
       "\n",
       "[150761 rows x 2 columns]"
      ]
     },
     "execution_count": 35,
     "metadata": {},
     "output_type": "execute_result"
    }
   ],
   "source": [
    "# tid = random.choice(list(threads_dict.keys()))\n",
    "pd.DataFrame(threads_dict.items())"
   ]
  },
  {
   "cell_type": "code",
   "execution_count": 54,
   "id": "74a72a12",
   "metadata": {},
   "outputs": [
    {
     "name": "stdout",
     "output_type": "stream",
     "text": [
      "{'msg_id': 'hoj9mdv', 'poster': 'NietINTP', 'thread_id': 'rg9thv', 'msg': \"Or you're like me and buy every peak just to see a huge drop, yelling about how you wish you had more fiat to buy the dip.\\n\\nSo... Nevermind I guess you were right. I'm dead inside.\", 'quote': 'hoj43ix', 'timestamp': 1639503193.0}\n"
     ]
    }
   ],
   "source": [
    "# print(threads_dict['rg9thv'])\n",
    "print(posts_dict['hoj9mdv'])"
   ]
  },
  {
   "cell_type": "code",
   "execution_count": 50,
   "id": "30a41a93",
   "metadata": {},
   "outputs": [
    {
     "name": "stdout",
     "output_type": "stream",
     "text": [
      "2017:17245\n",
      "2018:43310\n",
      "2019:25632\n",
      "2020:40339\n",
      "2021:51707\n"
     ]
    }
   ],
   "source": [
    "year_list = [2017, 2018, 2019, 2020, 2021]\n",
    "for year in year_list:\n",
    "    with open('data/redditors_dict_{}'.format(year), \"rb\") as f:\n",
    "            redditors_dict = pickle.load(f)\n",
    "    print('{}:{}'.format(year, len(redditors_dict)))"
   ]
  },
  {
   "cell_type": "code",
   "execution_count": 22,
   "id": "497f3845",
   "metadata": {},
   "outputs": [
    {
     "data": {
      "text/plain": [
       "20766"
      ]
     },
     "execution_count": 22,
     "metadata": {},
     "output_type": "execute_result"
    }
   ],
   "source": []
  },
  {
   "cell_type": "code",
   "execution_count": 19,
   "id": "9e9ff479",
   "metadata": {},
   "outputs": [],
   "source": [
    "year=2018\n",
    "with open('/home/jian/reddit_crawler/data/reddit_btc_parsed_{}'.format(year), \"rb\") as f:\n",
    "    posts_dict, threads_dict = pickle.load(f)"
   ]
  },
  {
   "cell_type": "code",
   "execution_count": 20,
   "id": "5f41ceca",
   "metadata": {},
   "outputs": [
    {
     "data": {
      "text/plain": [
       "70400"
      ]
     },
     "execution_count": 20,
     "metadata": {},
     "output_type": "execute_result"
    }
   ],
   "source": [
    "len(threads_dict)"
   ]
  },
  {
   "cell_type": "code",
   "execution_count": null,
   "id": "f8e511b2",
   "metadata": {},
   "outputs": [],
   "source": []
  }
 ],
 "metadata": {
  "kernelspec": {
   "display_name": "Conda Jian",
   "language": "python",
   "name": "conda-jian"
  },
  "language_info": {
   "codemirror_mode": {
    "name": "ipython",
    "version": 3
   },
   "file_extension": ".py",
   "mimetype": "text/x-python",
   "name": "python",
   "nbconvert_exporter": "python",
   "pygments_lexer": "ipython3",
   "version": "3.8.3"
  }
 },
 "nbformat": 4,
 "nbformat_minor": 5
}
