{
 "cells": [
  {
   "cell_type": "code",
   "execution_count": 8,
   "id": "ae187306",
   "metadata": {},
   "outputs": [],
   "source": [
    "import pickle\n"
   ]
  },
  {
   "cell_type": "code",
   "execution_count": 9,
   "id": "08c577c1",
   "metadata": {},
   "outputs": [
    {
     "name": "stdout",
     "output_type": "stream",
     "text": [
      "2017:618130\n",
      "2018:356126\n",
      "2019:233459\n",
      "2020:340064\n",
      "2021:1289527\n"
     ]
    }
   ],
   "source": [
    "year_list = [2017, 2018, 2019, 2020, 2021]\n",
    "for year in year_list:\n",
    "    with open('data/reddit_btc_parsed_{}'.format(year), \"rb\") as f:\n",
    "        posts_dict, threads_dict = pickle.load(f)\n",
    "    print('{}:{}'.format(year, len(posts_dict)))"
   ]
  },
  {
   "cell_type": "code",
   "execution_count": 11,
   "id": "3304d053",
   "metadata": {},
   "outputs": [
    {
     "name": "stdout",
     "output_type": "stream",
     "text": [
      "2017:198\n",
      "2018:43310\n",
      "2019:25632\n",
      "2020:40339\n",
      "2021:34383\n"
     ]
    }
   ],
   "source": [
    "year_list = [2017, 2018, 2019, 2020, 2021]\n",
    "for year in year_list:\n",
    "    with open('data/redditors_dict_{}'.format(year), \"rb\") as f:\n",
    "            redditors_dict = pickle.load(f)\n",
    "    print('{}:{}'.format(year, len(redditors_dict)))"
   ]
  },
  {
   "cell_type": "code",
   "execution_count": 22,
   "id": "7359838f",
   "metadata": {},
   "outputs": [
    {
     "data": {
      "text/plain": [
       "20766"
      ]
     },
     "execution_count": 22,
     "metadata": {},
     "output_type": "execute_result"
    }
   ],
   "source": []
  },
  {
   "cell_type": "code",
   "execution_count": 19,
   "id": "02641e50",
   "metadata": {},
   "outputs": [],
   "source": [
    "year=2018\n",
    "with open('/home/jian/reddit_crawler/data/reddit_btc_parsed_{}'.format(year), \"rb\") as f:\n",
    "    posts_dict, threads_dict = pickle.load(f)"
   ]
  },
  {
   "cell_type": "code",
   "execution_count": 20,
   "id": "ab9dc45c",
   "metadata": {},
   "outputs": [
    {
     "data": {
      "text/plain": [
       "70400"
      ]
     },
     "execution_count": 20,
     "metadata": {},
     "output_type": "execute_result"
    }
   ],
   "source": [
    "len(threads_dict)"
   ]
  },
  {
   "cell_type": "code",
   "execution_count": null,
   "id": "c51c7b7f",
   "metadata": {},
   "outputs": [],
   "source": []
  }
 ],
 "metadata": {
  "kernelspec": {
   "display_name": "Conda Jian",
   "language": "python",
   "name": "conda-jian"
  },
  "language_info": {
   "codemirror_mode": {
    "name": "ipython",
    "version": 3
   },
   "file_extension": ".py",
   "mimetype": "text/x-python",
   "name": "python",
   "nbconvert_exporter": "python",
   "pygments_lexer": "ipython3",
   "version": "3.8.3"
  }
 },
 "nbformat": 4,
 "nbformat_minor": 5
}
