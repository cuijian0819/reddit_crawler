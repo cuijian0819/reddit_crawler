{
 "cells": [
  {
   "cell_type": "code",
   "execution_count": 2,
   "id": "ed0a9378",
   "metadata": {},
   "outputs": [],
   "source": [
    "import pickle\n"
   ]
  },
  {
   "cell_type": "code",
   "execution_count": 25,
   "id": "d6feb856",
   "metadata": {},
   "outputs": [
    {
     "name": "stdout",
     "output_type": "stream",
     "text": [
      "529392\n"
     ]
    }
   ],
   "source": [
    "year=2017\n",
    "with open('data/reddit_btc_parsed_{}'.format(year), \"rb\") as f:\n",
    "    posts_dict, threads_dict = pickle.load(f)\n",
    "print(len(posts_dict))"
   ]
  },
  {
   "cell_type": "code",
   "execution_count": 26,
   "id": "3b5e1098",
   "metadata": {},
   "outputs": [
    {
     "data": {
      "text/plain": [
       "43310"
      ]
     },
     "execution_count": 26,
     "metadata": {},
     "output_type": "execute_result"
    }
   ],
   "source": [
    "with open('data/redditors_dict_2018', \"rb\") as f:\n",
    "        redditors_dict = pickle.load(f)\n",
    "len(redditors_dict)"
   ]
  },
  {
   "cell_type": "code",
   "execution_count": 22,
   "id": "3588072c",
   "metadata": {},
   "outputs": [
    {
     "data": {
      "text/plain": [
       "20766"
      ]
     },
     "execution_count": 22,
     "metadata": {},
     "output_type": "execute_result"
    }
   ],
   "source": []
  },
  {
   "cell_type": "code",
   "execution_count": 19,
   "id": "a1280cbf",
   "metadata": {},
   "outputs": [],
   "source": [
    "year=2018\n",
    "with open('/home/jian/reddit_crawler/data/reddit_btc_parsed_{}'.format(year), \"rb\") as f:\n",
    "    posts_dict, threads_dict = pickle.load(f)"
   ]
  },
  {
   "cell_type": "code",
   "execution_count": 20,
   "id": "4f347faa",
   "metadata": {},
   "outputs": [
    {
     "data": {
      "text/plain": [
       "70400"
      ]
     },
     "execution_count": 20,
     "metadata": {},
     "output_type": "execute_result"
    }
   ],
   "source": [
    "len(threads_dict)"
   ]
  },
  {
   "cell_type": "code",
   "execution_count": null,
   "id": "b446ae56",
   "metadata": {},
   "outputs": [],
   "source": []
  }
 ],
 "metadata": {
  "kernelspec": {
   "display_name": "Conda Jian",
   "language": "python",
   "name": "conda-jian"
  },
  "language_info": {
   "codemirror_mode": {
    "name": "ipython",
    "version": 3
   },
   "file_extension": ".py",
   "mimetype": "text/x-python",
   "name": "python",
   "nbconvert_exporter": "python",
   "pygments_lexer": "ipython3",
   "version": "3.8.3"
  }
 },
 "nbformat": 4,
 "nbformat_minor": 5
}
